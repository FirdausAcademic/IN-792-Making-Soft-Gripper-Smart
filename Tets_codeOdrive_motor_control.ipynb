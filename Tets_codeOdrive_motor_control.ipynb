{
 "cells": [
  {
   "cell_type": "code",
   "execution_count": 1,
   "metadata": {},
   "outputs": [],
   "source": [
    "import odrive \n",
    "from odrive.enums import *\n",
    "import numpy as np\n",
    "from matplotlib import pyplot as plt\n",
    "# import goto \n",
    "import time\n",
    "import math\n",
    "import sympy as sp\n",
    "import numpy as np\n",
    "import csv\n",
    "from threading import Thread,Lock\n",
    "import pandas as pd\n",
    "import datetime\n",
    "import os"
   ]
  },
  {
   "cell_type": "code",
   "execution_count": 2,
   "metadata": {},
   "outputs": [
    {
     "name": "stdout",
     "output_type": "stream",
     "text": [
      "Finding an ODrive...\n"
     ]
    }
   ],
   "source": [
    "# Find the connected ODrive\n",
    "print(\"Finding an ODrive...\")\n",
    "odrv0 = odrive.find_any()\n",
    "print(odrv0.serial_number) \n",
    "print(str(odrv0.vbus_voltage))\n",
    "print(\"ODrive found.\")"
   ]
  },
  {
   "cell_type": "code",
   "execution_count": 3,
   "metadata": {},
   "outputs": [
    {
     "name": "stdout",
     "output_type": "stream",
     "text": [
      "Configuring motor parameters...\n"
     ]
    }
   ],
   "source": [
    "\n",
    "# Configure motor parameters\n",
    "print(\"Configuring motor parameters...\")\n",
    "odrv0.axis0.motor.config.current_lim = 10  # Set current limit to 10A\n",
    "odrv0.axis0.controller.config.vel_limit = 10  # Set velocity limit to 10 turns per second\n",
    "odrv0.axis0.motor.config.calibration_current = 10  # Set calibration current\n",
    "odrv0.axis0.motor.config.pole_pairs = 7  # Set the number of pole pairs of the motor\n",
    "odrv0.axis0.encoder.config.cpr = 8192  # Set counts per revolution for the encoder"
   ]
  },
  {
   "cell_type": "code",
   "execution_count": null,
   "metadata": {},
   "outputs": [],
   "source": [
    "# Configure controller for position control\n",
    "odrv0.axis0.controller.config.control_mode = CONTROL_MODE_POSITION_CONTROL\n",
    "\n",
    "# Calibrate motor and encoder\n",
    "print(\"Calibrating motor and encoder...\")\n",
    "odrv0.axis0.requested_state = AXIS_STATE_MOTOR_CALIBRATION\n",
    "while odrv0.axis0.current_state != AXIS_STATE_IDLE:\n",
    "    time.sleep(0.1)\n",
    "\n",
    "odrv0.axis0.requested_state = AXIS_STATE_ENCODER_OFFSET_CALIBRATION\n",
    "while odrv0.axis0.current_state != AXIS_STATE_IDLE:\n",
    "    time.sleep(0.1)\n",
    "\n",
    "print(\"Calibration completed.\")"
   ]
  },
  {
   "cell_type": "code",
   "execution_count": 5,
   "metadata": {},
   "outputs": [
    {
     "name": "stdout",
     "output_type": "stream",
     "text": [
      "Moving to position: 0...\n",
      "Moving to position: 1...\n",
      "Moving to position: -1...\n",
      "Moving to position: 2...\n",
      "Moving to position: -2...\n",
      "Moving to position: 0...\n",
      "Position control test completed.\n"
     ]
    }
   ],
   "source": [
    "\n",
    "# Set the ODrive to closed loop control mode\n",
    "odrv0.axis0.requested_state = AXIS_STATE_CLOSED_LOOP_CONTROL\n",
    "\n",
    "# Function to move the motor to a target position\n",
    "def move_to_position(position):\n",
    "    print(f\"Moving to position: {position}...\")\n",
    "    odrv0.axis0.controller.input_pos = position\n",
    "    time.sleep(1)  # Wait for 1 second to reach the position\n",
    "\n",
    "# Example positions to move to\n",
    "positions = [0, 1, -1, 2, -2, 0]\n",
    "\n",
    "# Move the motor to each position in the list\n",
    "for pos in positions:\n",
    "    move_to_position(pos)\n",
    "\n",
    "print(\"Position control test completed.\")"
   ]
  }
 ],
 "metadata": {
  "kernelspec": {
   "display_name": "base",
   "language": "python",
   "name": "python3"
  },
  "language_info": {
   "codemirror_mode": {
    "name": "ipython",
    "version": 3
   },
   "file_extension": ".py",
   "mimetype": "text/x-python",
   "name": "python",
   "nbconvert_exporter": "python",
   "pygments_lexer": "ipython3",
   "version": "3.11.7"
  }
 },
 "nbformat": 4,
 "nbformat_minor": 2
}
